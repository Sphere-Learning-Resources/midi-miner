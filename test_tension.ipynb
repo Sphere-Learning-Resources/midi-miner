{
 "cells": [
  {
   "cell_type": "code",
   "execution_count": 1,
   "metadata": {},
   "outputs": [],
   "source": [
    "import tension_calculate as tc\n",
    "import pretty_midi\n",
    "import os"
   ]
  },
  {
   "cell_type": "markdown",
   "metadata": {},
   "source": [
    "### 1. read the midi file"
   ]
  },
  {
   "cell_type": "markdown",
   "metadata": {},
   "source": [
    "return pretty midi object without drum track, chord name and chord pianoroll for every half note"
   ]
  },
  {
   "cell_type": "code",
   "execution_count": 2,
   "metadata": {},
   "outputs": [
    {
     "name": "stdout",
     "output_type": "stream",
     "text": [
      "example/input/abc.mid\n"
     ]
    }
   ],
   "source": [
    "pm,chord_names,chord_note = tc.extract_notes('example/input/abc.mid','example/output')"
   ]
  },
  {
   "cell_type": "markdown",
   "metadata": {},
   "source": [
    "### 2. call cal_tension"
   ]
  },
  {
   "cell_type": "markdown",
   "metadata": {},
   "source": [
    "Return tensile_strain, diameters, centroid difference for every bar.\n",
    "If the last parameter is 1, then those is calculated for every half note.\n",
    "The key for the song and key change place is also returned.\n",
    "If no key change detected, key_change_bar=-1"
   ]
  },
  {
   "cell_type": "code",
   "execution_count": 3,
   "metadata": {
    "scrolled": true
   },
   "outputs": [
    {
     "name": "stdout",
     "output_type": "stream",
     "text": [
      "example/input/abc.mid\n",
      "major C\n",
      "the key changed after bar 61\n"
     ]
    }
   ],
   "source": [
    "tensile_strain, diameters, centroid_diff, key_name,key_change_bar = tc.cal_tension('example/input/abc.mid',pm,'example/output', 2)"
   ]
  },
  {
   "cell_type": "markdown",
   "metadata": {},
   "source": [
    "### 3. Draw the tensile strain"
   ]
  },
  {
   "cell_type": "code",
   "execution_count": 6,
   "metadata": {},
   "outputs": [],
   "source": [
    "tc.draw_tension(tensile_strain,os.path.join('example/output',\n",
    "                                                     'abc_tensile_strain.png'))"
   ]
  },
  {
   "cell_type": "code",
   "execution_count": null,
   "metadata": {},
   "outputs": [],
   "source": []
  }
 ],
 "metadata": {
  "kernelspec": {
   "display_name": "Python 3",
   "language": "python",
   "name": "python3"
  },
  "language_info": {
   "codemirror_mode": {
    "name": "ipython",
    "version": 3
   },
   "file_extension": ".py",
   "mimetype": "text/x-python",
   "name": "python",
   "nbconvert_exporter": "python",
   "pygments_lexer": "ipython3",
   "version": "3.6.5"
  }
 },
 "nbformat": 4,
 "nbformat_minor": 2
}
